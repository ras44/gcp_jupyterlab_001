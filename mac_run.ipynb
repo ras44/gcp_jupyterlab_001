{
 "cells": [
  {
   "cell_type": "code",
   "execution_count": 17,
   "metadata": {},
   "outputs": [
    {
     "name": "stdout",
     "output_type": "stream",
     "text": [
      "corr:  0.0  dim:  1  corrp: 0.0  kap:  0.0  gam:  1.0  DP gini:  0.0\n",
      "corr:  0.0  dim:  1  corrp: 0.0  kap:  1.5  gam:  1.0  DP gini:  0.6971733482099431\n",
      "corr:  0.0  dim:  1  corrp: 0.9  kap:  0.0  gam:  1.0  DP gini:  0.0\n",
      "corr:  0.0  dim:  1  corrp: 0.9  kap:  1.5  gam:  1.0  DP gini:  0.6971733482099431\n",
      "\n",
      "corr:  0.0  dim:  2  corrp: 0.0  kap:  0.0  gam:  1.0  DP gini:  0.0\n",
      "corr:  0.0  dim:  2  corrp: 0.0  kap:  1.5  gam:  1.0  DP gini:  0.7617591197322611\n",
      "corr:  0.0  dim:  2  corrp: 0.9  kap:  0.0  gam:  1.0  DP gini:  -0.23029371530564013\n",
      "corr:  0.0  dim:  2  corrp: 0.9  kap:  1.5  gam:  1.0  DP gini:  0.5872905766397678\n",
      "\n",
      "corr:  0.9  dim:  1  corrp: 0.0  kap:  0.0  gam:  1.0  DP gini:  0.0\n",
      "corr:  0.9  dim:  1  corrp: 0.0  kap:  1.5  gam:  1.0  DP gini:  0.6971733482099431\n",
      "corr:  0.9  dim:  1  corrp: 0.9  kap:  0.0  gam:  1.0  DP gini:  0.0\n",
      "corr:  0.9  dim:  1  corrp: 0.9  kap:  1.5  gam:  1.0  DP gini:  0.6971733482099431\n",
      "\n",
      "corr:  0.9  dim:  2  corrp: 0.0  kap:  0.0  gam:  1.0  DP gini:  0.23029371530564013\n",
      "corr:  0.9  dim:  2  corrp: 0.0  kap:  1.5  gam:  1.0  DP gini:  0.8322499644837897\n",
      "corr:  0.9  dim:  2  corrp: 0.9  kap:  0.0  gam:  1.0  DP gini:  0.0\n",
      "corr:  0.9  dim:  2  corrp: 0.9  kap:  1.5  gam:  1.0  DP gini:  0.6989357607837656\n",
      "\n"
     ]
    }
   ],
   "source": [
    "%run ./mac_run.py"
   ]
  },
  {
   "cell_type": "code",
   "execution_count": null,
   "metadata": {},
   "outputs": [],
   "source": []
  }
 ],
 "metadata": {
  "kernelspec": {
   "display_name": "Python 3",
   "language": "python",
   "name": "python3"
  },
  "language_info": {
   "codemirror_mode": {
    "name": "ipython",
    "version": 3
   },
   "file_extension": ".py",
   "mimetype": "text/x-python",
   "name": "python",
   "nbconvert_exporter": "python",
   "pygments_lexer": "ipython3",
   "version": "3.5.3"
  }
 },
 "nbformat": 4,
 "nbformat_minor": 4
}
