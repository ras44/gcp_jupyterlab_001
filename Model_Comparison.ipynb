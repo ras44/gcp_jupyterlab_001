{
 "cells": [
  {
   "cell_type": "code",
   "execution_count": 31,
   "metadata": {},
   "outputs": [],
   "source": [
    "import statsmodels.stats.power as smp\n",
    "import math\n",
    "import scipy\n",
    "import numpy as np\n",
    "import pandas as pd"
   ]
  },
  {
   "cell_type": "code",
   "execution_count": 27,
   "metadata": {},
   "outputs": [
    {
     "data": {
      "text/plain": [
       "10"
      ]
     },
     "execution_count": 27,
     "metadata": {},
     "output_type": "execute_result"
    }
   ],
   "source": [
    "# Set globals\n",
    "\n",
    "alpha = 0.05 # the false positive rate\n",
    "power = 0.80 # 1-false negative rate\n",
    "sigma = 10  # standard deviation\n",
    "mde = 0.10\n",
    "mu_a = 100\n",
    "mu_b = mu_a*(1+mde)\n",
    "d = (mu_b-mu_a)/sigma\n",
    "\n",
    "n_obs = math.ceil(smp.tt_solve_power(effect_size=d, nobs=None, alpha=alpha, power=power, alternative='two-sided'))\n",
    "n_obs"
   ]
  },
  {
   "cell_type": "code",
   "execution_count": 57,
   "metadata": {},
   "outputs": [],
   "source": [
    "# set the true effect to 0\n",
    "effect = 0\n",
    "mu_b = (1+effect)*mu_a\n",
    "n_mc = 100\n",
    "\n",
    "def monte_carlo(nsim, callback, *args, **kwargs):\n",
    "\t\"\"\"Run callback\"\"\"\n",
    "\treturn(pd.DataFrame([callback(*args, **kwargs) for i in range(nsim)]))\n",
    "    \n",
    "def reject(n_obs=n_obs, mu_a=mu_a, mu_b=mu_b, sigma=sigma):\n",
    "    v_a = sigma * np.random.randn(n_obs) + mu_a\n",
    "    v_b = sigma * np.random.randn(n_obs) + mu_b\n",
    "\n",
    "    ttr = scipy.stats.ttest_ind(v_a, v_b)\n",
    "    return(ttr.pvalue < alpha)\n",
    "\n",
    "rej = monte_carlo(n_mc, reject, n_obs=n_obs, mu_a=mu_a, mu_b=mu_b, sigma=sigma)\n"
   ]
  },
  {
   "cell_type": "code",
   "execution_count": 58,
   "metadata": {},
   "outputs": [
    {
     "data": {
      "text/plain": [
       "0    0.05\n",
       "dtype: float64"
      ]
     },
     "execution_count": 58,
     "metadata": {},
     "output_type": "execute_result"
    }
   ],
   "source": [
    "# confirm the FPR is as expected\n",
    "rej.mean()"
   ]
  }
 ],
 "metadata": {
  "kernelspec": {
   "display_name": "Python 3",
   "language": "python",
   "name": "python3"
  },
  "language_info": {
   "codemirror_mode": {
    "name": "ipython",
    "version": 3
   },
   "file_extension": ".py",
   "mimetype": "text/x-python",
   "name": "python",
   "nbconvert_exporter": "python",
   "pygments_lexer": "ipython3",
   "version": "3.5.3"
  }
 },
 "nbformat": 4,
 "nbformat_minor": 4
}
