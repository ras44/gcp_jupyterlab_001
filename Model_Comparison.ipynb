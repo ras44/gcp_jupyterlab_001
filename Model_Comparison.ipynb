{
 "cells": [
  {
   "cell_type": "markdown",
   "metadata": {},
   "source": [
    "# Monte-Carlo Version\n",
    "\n",
    "We have two normal distributions $\\phi_a=\\phi(\\mu_a,\\sigma_a)$ and $\\phi_b=\\phi(\\mu_b,\\sigma_b)$ and simulate draws from the normal distributions.  We assume equal variance, so $\\sigma_a=\\sigma_b$.\n",
    "\n",
    "In order to inspect the false-positive rate and the FWER, we set the \"true\" effect to zero.  In this case we know the null hypothesis is true.\n"
   ]
  },
  {
   "cell_type": "code",
   "execution_count": 9,
   "metadata": {},
   "outputs": [],
   "source": [
    "import statsmodels.stats.power as smp\n",
    "import math\n",
    "import scipy\n",
    "import numpy as np\n",
    "import pandas as pd\n",
    "import matplotlib.pyplot as plt\n",
    "# if using a Jupyter notebook, includue:\n",
    "%matplotlib inline"
   ]
  },
  {
   "cell_type": "code",
   "execution_count": 38,
   "metadata": {},
   "outputs": [
    {
     "data": {
      "text/plain": [
       "10"
      ]
     },
     "execution_count": 38,
     "metadata": {},
     "output_type": "execute_result"
    }
   ],
   "source": [
    "# Set globals\n",
    "\n",
    "alpha = 0.05 # the false positive rate\n",
    "power = 0.80 # 1-false negative rate\n",
    "sigma = 10  # standard deviation\n",
    "mde = 0.10  # the relative minimum detectable effect\n",
    "mu_a = 100\n",
    "mu_b = mu_a*(1+mde)\n",
    "d = (mu_b-mu_a)/sigma # standardized effect size\n",
    "n_mc = 100  # monte-carlo trials\n",
    "\n",
    "# do power calculation for number of observations required to detect minimum detectable effect\n",
    "n_obs = math.ceil(smp.tt_solve_power(effect_size=d, nobs=None, alpha=alpha, power=power, alternative='two-sided'))\n",
    "n_obs"
   ]
  },
  {
   "cell_type": "code",
   "execution_count": 11,
   "metadata": {},
   "outputs": [],
   "source": [
    "\n",
    "def monte_carlo(nsim, callback, *args, **kwargs):\n",
    "\t\"\"\"Run callback\"\"\"\n",
    "\treturn(pd.DataFrame([callback(*args, **kwargs) for i in range(nsim)]))\n",
    "    \n",
    "def reject(n_obs=n_obs, mu_a=mu_a, mu_b=mu_b, sigma_a=sigma, sigma_b=sigma):\n",
    "    v_a = sigma_a * np.random.randn(n_obs) + mu_a\n",
    "    v_b = sigma_b * np.random.randn(n_obs) + mu_b\n",
    "\n",
    "    ttr = scipy.stats.ttest_ind(v_a, v_b)\n",
    "    return(ttr.pvalue < alpha)"
   ]
  },
  {
   "cell_type": "code",
   "execution_count": 39,
   "metadata": {},
   "outputs": [
    {
     "data": {
      "text/plain": [
       "0    0.06\n",
       "dtype: float64"
      ]
     },
     "execution_count": 39,
     "metadata": {},
     "output_type": "execute_result"
    }
   ],
   "source": [
    "# set the true effect to 0\n",
    "effect = 0\n",
    "mu_b = (1+effect)*mu_a\n",
    "rej = monte_carlo(n_mc, reject, n_obs=n_obs, mu_a=mu_a, mu_b=mu_b, sigma_a=sigma, sigma_b=sigma)\n",
    "\n",
    "# confirm the FPR is as expected\n",
    "rej.mean()"
   ]
  },
  {
   "cell_type": "code",
   "execution_count": 65,
   "metadata": {},
   "outputs": [],
   "source": [
    "# Now define a function that returns the p-value\n",
    "def p_value(n_obs=n_obs, mu_a=mu_a, mu_b=mu_b, sigma_a=sigma, sigma_b=sigma):\n",
    "    v_a = sigma_a * np.random.randn(n_obs) + mu_a\n",
    "    v_b = sigma_b * np.random.randn(n_obs) + mu_b\n",
    "\n",
    "    ttr = scipy.stats.ttest_ind(v_a, v_b)\n",
    "    return(ttr.pvalue)\n",
    "\n",
    "# And a function that returns the test statistic\n",
    "def tstatistic(n_obs=n_obs, mu_a=mu_a, mu_b=mu_b, sigma_a=sigma, sigma_b=sigma):\n",
    "    v_a = sigma_a * np.random.randn(n_obs) + mu_a\n",
    "    v_b = sigma_b * np.random.randn(n_obs) + mu_b\n",
    "\n",
    "    ttr = scipy.stats.ttest_ind(v_a, v_b)\n",
    "    return(ttr.statistic)\n"
   ]
  },
  {
   "cell_type": "code",
   "execution_count": 67,
   "metadata": {},
   "outputs": [
    {
     "data": {
      "image/png": "[encoded data removed]",
      "text/plain": [
       "<Figure size 432x288 with 1 Axes>"
      ]
     },
     "metadata": {
      "needs_background": "light"
     },
     "output_type": "display_data"
    },
    {
     "data": {
      "image/png": "[encoded data removed]",
      "text/plain": [
       "<Figure size 432x288 with 1 Axes>"
      ]
     },
     "metadata": {
      "needs_background": "light"
     },
     "output_type": "display_data"
    }
   ],
   "source": [
    "# Here we illustrate that if the null is true, the p-values are uniformly distributed\n",
    "# between 0 and 1, and the t-statistics are normally distributed around 0\n",
    "\n",
    "# set the true effect to 0\n",
    "effect = 0\n",
    "mu_b = (1+effect)*mu_a\n",
    "\n",
    "# monte-carlo sample the p_values and t-statistics\n",
    "pvs = monte_carlo(n_mc, p_value, n_obs=n_obs, mu_a=mu_a, mu_b=mu_b, sigma_a=sigma, sigma_b=sigma)\n",
    "tss = monte_carlo(n_mc, tstatistic, n_obs=n_obs, mu_a=mu_a, mu_b=mu_b, sigma_a=sigma, sigma_b=sigma)\n",
    "\n",
    "plt.hist(pvs[0], 20,\n",
    "         density=True,\n",
    "         histtype='bar',\n",
    "         facecolor='b',\n",
    "         alpha=0.5)\n",
    "plt.show()\n",
    "\n",
    "plt.hist(tss[0], 20,\n",
    "         density=True,\n",
    "         histtype='bar',\n",
    "         facecolor='b',\n",
    "         alpha=0.5)\n",
    "plt.show()"
   ]
  },
  {
   "cell_type": "code",
   "execution_count": 68,
   "metadata": {},
   "outputs": [
    {
     "data": {
      "image/png": "[encoded data removed]",
      "text/plain": [
       "<Figure size 432x288 with 1 Axes>"
      ]
     },
     "metadata": {
      "needs_background": "light"
     },
     "output_type": "display_data"
    },
    {
     "data": {
      "image/png": "[encoded data removed]",
      "text/plain": [
       "<Figure size 432x288 with 1 Axes>"
      ]
     },
     "metadata": {
      "needs_background": "light"
     },
     "output_type": "display_data"
    }
   ],
   "source": [
    "# In comparison we illustrate that if the null is false, the p-values are not uniformly \n",
    "# distributed between 0 and 1, and the t-statistics are not normally distributed around 0\n",
    "\n",
    "# set the true effect to the mde\n",
    "effect = mde\n",
    "mu_b = (1+effect)*mu_a\n",
    "\n",
    "pvs = monte_carlo(n_mc, p_value, n_obs=n_obs, mu_a=mu_a, mu_b=mu_b, sigma_a=sigma, sigma_b=sigma)\n",
    "tss = monte_carlo(n_mc, tstatistic, n_obs=n_obs, mu_a=mu_a, mu_b=mu_b, sigma_a=sigma, sigma_b=sigma)\n",
    "\n",
    "plt.hist(pvs[0], 20,\n",
    "         density=True,\n",
    "         histtype='bar',\n",
    "         facecolor='b',\n",
    "         alpha=0.5)\n",
    "plt.show()\n",
    "\n",
    "plt.hist(tss[0], 20,\n",
    "         density=True,\n",
    "         histtype='bar',\n",
    "         facecolor='b',\n",
    "         alpha=0.5)\n",
    "plt.show()"
   ]
  },
  {
   "cell_type": "markdown",
   "metadata": {},
   "source": [
    "# Joint-Distribution Version\n",
    "Here we model the joint distribution as gaussian normal and then integrate over it."
   ]
  },
  {
   "cell_type": "code",
   "execution_count": 2,
   "metadata": {},
   "outputs": [
    {
     "name": "stdout",
     "output_type": "stream",
     "text": [
      "[0.05 0.15 0.25 0.35 0.45 0.55 0.65 0.75 0.85 0.95]\n",
      "[-1.64485363 -1.03643339 -0.67448975 -0.38532047 -0.12566135  0.12566135\n",
      "  0.38532047  0.67448975  1.03643339  1.64485363]\n",
      "0 0\n",
      "     pm  (00, 1)\n",
      "0  0.05     0.95\n",
      "1  0.15     0.85\n",
      "2  0.25     0.75\n",
      "3  0.35     0.65\n",
      "4  0.45     0.55\n",
      "5  0.55     0.45\n",
      "6  0.65     0.35\n",
      "7  0.75     0.25\n",
      "8  0.85     0.15\n",
      "9  0.95     0.05\n",
      "[0.   0.05 0.15 0.25 0.35 0.45 0.55 0.65 0.75 0.85 0.95 1.  ]\n",
      "0 1\n",
      "     pm  (00, 1)  (00, 2)\n",
      "0  0.05     0.95   0.9975\n",
      "1  0.15     0.85   0.9775\n",
      "2  0.25     0.75   0.9375\n",
      "3  0.35     0.65   0.8775\n",
      "4  0.45     0.55   0.7975\n",
      "5  0.55     0.45   0.6975\n",
      "6  0.65     0.35   0.5775\n",
      "7  0.75     0.25   0.4375\n",
      "8  0.85     0.15   0.2775\n",
      "9  0.95     0.05   0.0975\n",
      "[0.     0.0025 0.0225 0.0625 0.1225 0.2025 0.3025 0.4225 0.5625 0.7225\n",
      " 0.9025 1.    ]\n"
     ]
    }
   ],
   "source": [
    "import numpy as np\n",
    "import pandas as pd\n",
    "from scipy.special import ndtri,ndtr\n",
    "from scipy.stats import multivariate_normal\n",
    "\n",
    "corrs=['00']\n",
    "#DIMS=[1,2,3,4,5,6,7,8,9,10]\n",
    "DIMS=[1,2]\n",
    "\n",
    "kappas=[0.0,1.5,3.0,0.0,1.5,3.0,0.0,1.5,3.0]\n",
    "gammas=[0.5,0.5,0.5,1.0,1.0,1.0,3.0,3.0,3.0]\n",
    "\n",
    "Np=10\n",
    "pm=(np.linspace(1,Np,Np)-0.5)/Np # equally spaced p-values between (0,1)\n",
    "Zm=ndtri(pm)  # Z-values for the p-values\n",
    "\n",
    "print(pm)\n",
    "print(Zm)\n",
    "\n",
    "for ccorr in range(0,len(corrs)):\n",
    "    label=corrs[ccorr]\n",
    "    TF=pd.DataFrame()\n",
    "    #TF['Zm']=Zm\n",
    "    TF['pm']=pm\n",
    "    \n",
    "    TPR=pd.DataFrame()\n",
    "    TPR['pm']=pm\n",
    "    TPRone=pd.DataFrame()\n",
    "    TPRone['pm']=pm\n",
    "    \n",
    "    DP=pd.DataFrame()\n",
    "    DPone=pd.DataFrame()\n",
    "    \n",
    "\n",
    "    for cdim in range(0,len(DIMS)):\n",
    "        print(ccorr,cdim)\n",
    "        \n",
    "        dim=DIMS[cdim]\n",
    "        corr=float(corrs[ccorr])/100.0\n",
    "        \n",
    "        mean = np.zeros(dim)\n",
    "        covar = corr*np.ones([dim,dim],float)\n",
    "        np.fill_diagonal(covar,1.0)\n",
    "\n",
    "        # We have defined mean=0, so the null is always True\n",
    "        dist = multivariate_normal(mean=mean, cov=covar)\n",
    "\n",
    "        Zrep=np.tile(Zm,(dim,1)).T # Z-values for the equally spaced p-values between 0 and 1\n",
    "        TF[(corrs[ccorr],dim)]=dist.cdf(Zrep) # proportion of cases that don't reject the null, \n",
    "        TPR[(corrs[ccorr],dim)]=1.0-TF[(corrs[ccorr],dim)] # proportion of cases that do reject the null\n",
    "        TPRone[(corrs[ccorr],dim)]=1.0-TF[(corrs[ccorr],dim)]\n",
    "\n",
    "        # Null hypothesis: the mean of the t-statistics is zero, in 5% of cases reject that the mean is zero\n",
    "        print(TPR)\n",
    "\n",
    "        omp=np.append(np.append([0.0],TF[(corrs[ccorr],dim)].to_numpy()),[1.0])\n",
    "\n",
    "        for ccorrp in range(0,len(corrs)):\n",
    "            corrp=float(corrs[ccorrp])/100.0\n",
    "            covarp = corrp*np.ones([dim,dim],float)\n",
    "            np.fill_diagonal(covarp,1.0)\n",
    "            distp = multivariate_normal(mean=mean, cov=covarp)\n",
    "            \n",
    "            for cs in range(0,len(kappas)):\n",
    "                kap=kappas[cs]\n",
    "                gam=gammas[cs]\n",
    "                TPR[(corrs[ccorr],dim,corrs[ccorrp],kap,gam)]=1.0-distp.cdf(-kap+gam*Zrep)\n",
    "                ttpr=np.append([1.0],np.append(TPR[(corrs[ccorr],dim,corrs[ccorrp],kap,gam)].to_numpy(),[0.0]))\n",
    "                gini=2.0 * np.trapz( ttpr, x=omp ) - 1.0\n",
    "#                 DP[(corrs[ccorr],dim,corrs[ccorrp],kap,gam)]=[gini]\n",
    "# #                print(gini)\n",
    "#                 Zrepcpy=Zrep.copy()\n",
    "#                 Zrepcpy[:,0]=-kap+gam*Zrep[:,0]\n",
    "#                 TPRone[(corrs[ccorr],dim,corrs[ccorrp],kap,gam)]=1.0-distp.cdf(Zrepcpy)\n",
    "#                 ttpr=np.append([1.0],np.append(TPRone[(corrs[ccorr],dim,corrs[ccorrp],kap,gam)].to_numpy(),[0.0]))\n",
    "#                 gini=2.0 * np.trapz( ttpr, x=omp ) - 1.0\n",
    "#                 DPone[(corrs[ccorr],dim,corrs[ccorrp],kap,gam)]=[gini]\n",
    "\n",
    "#     TF.to_csv('TF_'+label+'.csv')\n",
    "#     TPR.to_csv('TPR_'+label+'.csv')\n",
    "#     DP.transpose().to_csv('DP_'+label+'.csv')\n",
    "#     TPRone.to_csv('TPRone_'+label+'.csv')\n",
    "#     DPone.transpose().to_csv('DPone_'+label+'.csv')"
   ]
  }
 ],
 "metadata": {
  "kernelspec": {
   "display_name": "Python 3",
   "language": "python",
   "name": "python3"
  },
  "language_info": {
   "codemirror_mode": {
    "name": "ipython",
    "version": 3
   },
   "file_extension": ".py",
   "mimetype": "text/x-python",
   "name": "python",
   "nbconvert_exporter": "python",
   "pygments_lexer": "ipython3",
   "version": "3.5.3"
  }
 },
 "nbformat": 4,
 "nbformat_minor": 4
}
